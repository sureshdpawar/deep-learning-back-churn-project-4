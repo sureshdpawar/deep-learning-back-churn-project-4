{
  "cells": [
    {
      "cell_type": "markdown",
      "metadata": {
        "id": "sZX-TuTvLEj8"
      },
      "source": [
        "# Introduction to Neural Networks: Bank Churn prediction"
      ]
    },
    {
      "cell_type": "markdown",
      "source": [
        "## Problem Statement"
      ],
      "metadata": {
        "id": "Qn7NK9TzmIs2"
      }
    },
    {
      "cell_type": "markdown",
      "source": [
        "### Context"
      ],
      "metadata": {
        "id": "1UlRz3Oc38eu"
      }
    },
    {
      "cell_type": "markdown",
      "metadata": {
        "id": "DRX9f5_6HUNP"
      },
      "source": [
        "Businesses like banks which provide service have to worry about problem of 'Customer Churn' i.e. customers leaving and joining another service provider. It is important to understand which aspects of the service influence a customer's decision in this regard. Management can concentrate efforts on improvement of service, keeping in mind these priorities."
      ]
    },
    {
      "cell_type": "markdown",
      "source": [
        "### Objective"
      ],
      "metadata": {
        "id": "pOA6e4sV3_IT"
      }
    },
    {
      "cell_type": "markdown",
      "source": [
        "You as a Data scientist with the  bank need to  build a neural network based classifier that can determine whether a customer will leave the bank  or not in the next 6 months."
      ],
      "metadata": {
        "id": "PSrQdWHCmQh-"
      }
    },
    {
      "cell_type": "markdown",
      "source": [
        "### Data Dictionary:"
      ],
      "metadata": {
        "id": "3Hr9AsdC3595"
      }
    },
    {
      "cell_type": "markdown",
      "source": [
        "* CustomerId: Unique ID which is assigned to each customer\n",
        "\n",
        "* Surname: Last name of the customer\n",
        " \n",
        "* CreditScore: It defines the credit history of the customer.\n",
        "  \n",
        "* Geography: A customer’s location \n",
        "   \n",
        "* Gender: It defines the Gender of the customer\n",
        "   \n",
        "* Age: Age of the customer \n",
        "    \n",
        "* Tenure: Number of years for which the customer has been with the bank\n",
        "\n",
        "* NumOfProducts: refers to the number of products that a customer has purchased through the bank.\n",
        "\n",
        "* Balance: Account balance\n",
        "\n",
        "* HasCrCard: It is a categorical variable which decides whether the customer has credit card or not.\n",
        "\n",
        "* EstimatedSalary: Estimated salary \n",
        "\n",
        "* isActiveMember: Is is a categorical variable which decides whether the customer is active member of the bank or not ( Active member in the sense, using bank products regularly, making transactions etc )\n",
        "\n",
        "* Exited : whether or not the customer left the bank within six month. It can take two values \n",
        "** 0=No ( Customer did not leave the bank )\n",
        "** 1=Yes ( Customer left the bank )"
      ],
      "metadata": {
        "id": "brhszBMtmWJG"
      }
    },
    {
      "cell_type": "markdown",
      "metadata": {
        "id": "-cYmf-q8c726"
      },
      "source": [
        "## Importing necessary libraries"
      ]
    },
    {
      "cell_type": "code",
      "execution_count": null,
      "metadata": {
        "id": "IfeZclzIHUNs"
      },
      "outputs": [],
      "source": []
    },
    {
      "cell_type": "markdown",
      "metadata": {
        "id": "z7ubXtC8HUOA"
      },
      "source": [
        "## Loading the dataset"
      ]
    },
    {
      "cell_type": "code",
      "execution_count": null,
      "metadata": {
        "id": "1QJLp3P3HUOC"
      },
      "outputs": [],
      "source": []
    },
    {
      "cell_type": "markdown",
      "metadata": {
        "id": "BwaZDbsYf0-N"
      },
      "source": [
        "## Data Overview"
      ]
    },
    {
      "cell_type": "code",
      "source": [],
      "metadata": {
        "id": "UuT9Do_6nNJH"
      },
      "execution_count": null,
      "outputs": []
    },
    {
      "cell_type": "markdown",
      "metadata": {
        "id": "W036jsgwRdVN"
      },
      "source": [
        "## Exploratory Data Analysis"
      ]
    },
    {
      "cell_type": "markdown",
      "metadata": {
        "id": "E4AlzoVuMQRK"
      },
      "source": [
        "- EDA is an important part of any project involving data.\n",
        "- It is important to investigate and understand the data better before building a model with it.\n",
        "- A few questions have been mentioned below which will help you approach the analysis in the right manner and generate insights from the data.\n",
        "- A thorough analysis of the data, in addition to the questions mentioned below, should be done."
      ]
    },
    {
      "cell_type": "markdown",
      "metadata": {
        "id": "FoRvJhNMMS_6"
      },
      "source": [
        "**Questions**:\n",
        "\n",
        "1. What is the distribution of the credit score of customers? Are there any noticeable patterns or outliers in the distribution?\n",
        "2. How many active members are there with the bank?\n",
        "3. How are the different customer attributes correlated to each other?\n",
        "4. Who is churning more when compared to males and females?  \n",
        "5. Customers from which geographical part are churning more?"
      ]
    },
    {
      "cell_type": "code",
      "execution_count": null,
      "metadata": {
        "id": "1-HcZCCBRcCo"
      },
      "outputs": [],
      "source": []
    },
    {
      "cell_type": "markdown",
      "source": [
        "## Data Preprocessing"
      ],
      "metadata": {
        "id": "gnOIzhBenXaZ"
      }
    },
    {
      "cell_type": "markdown",
      "source": [
        "* Missing value treatment\n",
        "* Feature engineering (if needed)\n",
        "* Outlier detection and treatment (if needed)\n",
        "* Preparing data for modeling\n",
        "* Any other preprocessing steps (if needed)"
      ],
      "metadata": {
        "id": "JRI3I162naTr"
      }
    },
    {
      "cell_type": "code",
      "source": [],
      "metadata": {
        "id": "vU_6ObCxnYOz"
      },
      "execution_count": null,
      "outputs": []
    },
    {
      "cell_type": "markdown",
      "metadata": {
        "id": "7eWct2L10DUm"
      },
      "source": [
        "## Model Building"
      ]
    },
    {
      "cell_type": "markdown",
      "source": [
        "### Model Evaluation Criterion"
      ],
      "metadata": {
        "id": "JGlB5Y8_nkC7"
      }
    },
    {
      "cell_type": "markdown",
      "source": [
        "* "
      ],
      "metadata": {
        "id": "87dpNRYhpHfm"
      }
    },
    {
      "cell_type": "markdown",
      "metadata": {
        "id": "m-_JBupNHUPw"
      },
      "source": [
        "### Model Building: Neural Network"
      ]
    },
    {
      "cell_type": "code",
      "execution_count": null,
      "metadata": {
        "id": "y3aDaCPDRm9T"
      },
      "outputs": [],
      "source": []
    },
    {
      "cell_type": "markdown",
      "metadata": {
        "id": "IciEK79v7GCm"
      },
      "source": [
        "### Model Building: Neural Network model with Adam Optimizer"
      ]
    },
    {
      "cell_type": "code",
      "execution_count": null,
      "metadata": {
        "id": "CkzWYhkOc73J"
      },
      "outputs": [],
      "source": []
    },
    {
      "cell_type": "markdown",
      "source": [
        "### Model Improvement: Neural Network model with Dropout"
      ],
      "metadata": {
        "id": "GGwttEsryEtG"
      }
    },
    {
      "cell_type": "code",
      "source": [],
      "metadata": {
        "id": "kshTKtZWyFk8"
      },
      "execution_count": null,
      "outputs": []
    },
    {
      "cell_type": "markdown",
      "metadata": {
        "id": "g2TsEYy_pstz"
      },
      "source": [
        "### Model Improvement: Neural Network model with Hyperparameter tuning"
      ]
    },
    {
      "cell_type": "code",
      "execution_count": null,
      "metadata": {
        "id": "5C3Eh9w5c73L"
      },
      "outputs": [],
      "source": []
    },
    {
      "cell_type": "markdown",
      "metadata": {
        "id": "RBQRXPaQrfN1"
      },
      "source": [
        "### Model Improvement: Neural Network model with balanced data"
      ]
    },
    {
      "cell_type": "code",
      "execution_count": null,
      "metadata": {
        "id": "IXyLsusWjgJi"
      },
      "outputs": [],
      "source": []
    },
    {
      "cell_type": "markdown",
      "source": [
        "## Final Model"
      ],
      "metadata": {
        "id": "vqIYgOxCySs3"
      }
    },
    {
      "cell_type": "code",
      "source": [],
      "metadata": {
        "id": "tU5sHXiPyTYB"
      },
      "execution_count": null,
      "outputs": []
    },
    {
      "cell_type": "markdown",
      "metadata": {
        "id": "XE1iHOqqOEmV"
      },
      "source": [
        "## Actionable Insights and Recommendations "
      ]
    },
    {
      "cell_type": "markdown",
      "source": [
        "**What recommedations would you suggest to the bank?**"
      ],
      "metadata": {
        "id": "M6gyNHDPotnr"
      }
    },
    {
      "cell_type": "markdown",
      "source": [
        "* "
      ],
      "metadata": {
        "id": "ZfhTJWCWo5PT"
      }
    },
    {
      "cell_type": "markdown",
      "source": [
        "___"
      ],
      "metadata": {
        "id": "m-98WoMDoxdQ"
      }
    }
  ],
  "metadata": {
    "colab": {
      "collapsed_sections": [
        "Qn7NK9TzmIs2",
        "1UlRz3Oc38eu",
        "pOA6e4sV3_IT",
        "3Hr9AsdC3595",
        "-cYmf-q8c726",
        "z7ubXtC8HUOA",
        "BwaZDbsYf0-N",
        "W036jsgwRdVN",
        "gnOIzhBenXaZ",
        "7eWct2L10DUm",
        "JGlB5Y8_nkC7",
        "m-_JBupNHUPw",
        "IciEK79v7GCm",
        "GGwttEsryEtG",
        "g2TsEYy_pstz",
        "RBQRXPaQrfN1",
        "vqIYgOxCySs3",
        "XE1iHOqqOEmV"
      ],
      "provenance": []
    },
    "kernelspec": {
      "display_name": "Python 3",
      "language": "python",
      "name": "python3"
    },
    "language_info": {
      "codemirror_mode": {
        "name": "ipython",
        "version": 3
      },
      "file_extension": ".py",
      "mimetype": "text/x-python",
      "name": "python",
      "nbconvert_exporter": "python",
      "pygments_lexer": "ipython3",
      "version": "3.8.8"
    }
  },
  "nbformat": 4,
  "nbformat_minor": 0
}